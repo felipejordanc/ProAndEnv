{
 "cells": [
  {
   "cell_type": "markdown",
   "metadata": {
    "deletable": true,
    "editable": true
   },
   "source": [
    "This notebook pulls nightlight data form the engine and save it to a raster file."
   ]
  },
  {
   "cell_type": "code",
   "execution_count": 1,
   "metadata": {
    "collapsed": false,
    "deletable": true,
    "editable": true
   },
   "outputs": [],
   "source": [
    "import ee\n",
    "ee.Initialize()\n",
    "\n",
    "# Study Area\n",
    "countries = ee.FeatureCollection('USDOS/LSIB_SIMPLE/2017')\n",
    "chile  = ee.Feature(countries.filter(ee.Filter.eq('country_na','Chile')).first()).geometry()\n",
    "circle = ee.Geometry.Point(-72.388,-38.905).buffer(300000)\n",
    "area = chile.intersection(circle)\n",
    "\n",
    "# Importing Shape of Mercy Titles \n",
    "shape = ee.FeatureCollection('users/fjordancolzani/mt_shape')\n",
    "\n",
    "# Import Nightlight Series\n",
    "nl = ee.ImageCollection('NOAA/DMSP-OLS/NIGHTTIME_LIGHTS').filterBounds(area).sort('DATE_ACQUIRED')\n",
    "nl92 = ee.Image(nl.first()).select(1)  "
   ]
  },
  {
   "cell_type": "code",
   "execution_count": 7,
   "metadata": {
    "collapsed": false,
    "deletable": true,
    "editable": true
   },
   "outputs": [],
   "source": [
    "# Average Nightlight in radios 25 and 50 and 100 KM\n",
    "for r in [100000]:\n",
    "    shape_b = shape.map(lambda x: x.centroid().buffer(r))\n",
    "    lights = nl92.reduceRegions(collection=shape_b,reducer = ee.Reducer.mean())\n",
    "    des = 'lights92_'+str(r/1000)+'km'\n",
    "    task1 =  ee.batch.Export.table.toDrive(collection=lights,description=des,\n",
    "                                       folder='EarthEngineResults')\n",
    "    task1.start()\n",
    "\n"
   ]
  },
  {
   "cell_type": "code",
   "execution_count": null,
   "metadata": {
    "collapsed": true,
    "deletable": true,
    "editable": true
   },
   "outputs": [],
   "source": []
  }
 ],
 "metadata": {
  "kernelspec": {
   "display_name": "Python 2",
   "language": "python",
   "name": "python2"
  },
  "language_info": {
   "codemirror_mode": {
    "name": "ipython",
    "version": 2
   },
   "file_extension": ".py",
   "mimetype": "text/x-python",
   "name": "python",
   "nbconvert_exporter": "python",
   "pygments_lexer": "ipython2",
   "version": "2.7.12"
  }
 },
 "nbformat": 4,
 "nbformat_minor": 2
}
